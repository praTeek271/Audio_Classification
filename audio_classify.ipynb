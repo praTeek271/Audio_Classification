{
  "cells": [
    {
      "cell_type": "code",
      "execution_count": 1,
      "metadata": {
        "colab": {
          "base_uri": "https://localhost:8080/"
        },
        "id": "KSxorA7xNEGp",
        "outputId": "e22b203b-29f4-4d9f-805d-cd17a4374421"
      },
      "outputs": [
        {
          "output_type": "stream",
          "name": "stdout",
          "text": [
            "/bin/bash: virtualenv: command not found\n",
            "/bin/bash: env/bin/activate: No such file or directory\n",
            "Collecting tensorflow_io\n",
            "  Downloading tensorflow_io-0.32.0-cp310-cp310-manylinux_2_12_x86_64.manylinux2010_x86_64.whl (28.0 MB)\n",
            "\u001b[2K     \u001b[90m━━━━━━━━━━━━━━━━━━━━━━━━━━━━━━━━━━━━━━━━\u001b[0m \u001b[32m28.0/28.0 MB\u001b[0m \u001b[31m58.4 MB/s\u001b[0m eta \u001b[36m0:00:00\u001b[0m\n",
            "\u001b[?25hRequirement already satisfied: tensorflow-io-gcs-filesystem==0.32.0 in /usr/local/lib/python3.10/dist-packages (from tensorflow_io) (0.32.0)\n",
            "Installing collected packages: tensorflow_io\n",
            "Successfully installed tensorflow_io-0.32.0\n",
            "Requirement already satisfied: tensorflow in /usr/local/lib/python3.10/dist-packages (2.12.0)\n",
            "Requirement already satisfied: absl-py>=1.0.0 in /usr/local/lib/python3.10/dist-packages (from tensorflow) (1.4.0)\n",
            "Requirement already satisfied: astunparse>=1.6.0 in /usr/local/lib/python3.10/dist-packages (from tensorflow) (1.6.3)\n",
            "Requirement already satisfied: flatbuffers>=2.0 in /usr/local/lib/python3.10/dist-packages (from tensorflow) (23.5.26)\n",
            "Requirement already satisfied: gast<=0.4.0,>=0.2.1 in /usr/local/lib/python3.10/dist-packages (from tensorflow) (0.4.0)\n",
            "Requirement already satisfied: google-pasta>=0.1.1 in /usr/local/lib/python3.10/dist-packages (from tensorflow) (0.2.0)\n",
            "Requirement already satisfied: grpcio<2.0,>=1.24.3 in /usr/local/lib/python3.10/dist-packages (from tensorflow) (1.56.0)\n",
            "Requirement already satisfied: h5py>=2.9.0 in /usr/local/lib/python3.10/dist-packages (from tensorflow) (3.8.0)\n",
            "Requirement already satisfied: jax>=0.3.15 in /usr/local/lib/python3.10/dist-packages (from tensorflow) (0.4.10)\n",
            "Requirement already satisfied: keras<2.13,>=2.12.0 in /usr/local/lib/python3.10/dist-packages (from tensorflow) (2.12.0)\n",
            "Requirement already satisfied: libclang>=13.0.0 in /usr/local/lib/python3.10/dist-packages (from tensorflow) (16.0.0)\n",
            "Requirement already satisfied: numpy<1.24,>=1.22 in /usr/local/lib/python3.10/dist-packages (from tensorflow) (1.22.4)\n",
            "Requirement already satisfied: opt-einsum>=2.3.2 in /usr/local/lib/python3.10/dist-packages (from tensorflow) (3.3.0)\n",
            "Requirement already satisfied: packaging in /usr/local/lib/python3.10/dist-packages (from tensorflow) (23.1)\n",
            "Requirement already satisfied: protobuf!=4.21.0,!=4.21.1,!=4.21.2,!=4.21.3,!=4.21.4,!=4.21.5,<5.0.0dev,>=3.20.3 in /usr/local/lib/python3.10/dist-packages (from tensorflow) (3.20.3)\n",
            "Requirement already satisfied: setuptools in /usr/local/lib/python3.10/dist-packages (from tensorflow) (67.7.2)\n",
            "Requirement already satisfied: six>=1.12.0 in /usr/local/lib/python3.10/dist-packages (from tensorflow) (1.16.0)\n",
            "Requirement already satisfied: tensorboard<2.13,>=2.12 in /usr/local/lib/python3.10/dist-packages (from tensorflow) (2.12.3)\n",
            "Requirement already satisfied: tensorflow-estimator<2.13,>=2.12.0 in /usr/local/lib/python3.10/dist-packages (from tensorflow) (2.12.0)\n",
            "Requirement already satisfied: termcolor>=1.1.0 in /usr/local/lib/python3.10/dist-packages (from tensorflow) (2.3.0)\n",
            "Requirement already satisfied: typing-extensions>=3.6.6 in /usr/local/lib/python3.10/dist-packages (from tensorflow) (4.6.3)\n",
            "Requirement already satisfied: wrapt<1.15,>=1.11.0 in /usr/local/lib/python3.10/dist-packages (from tensorflow) (1.14.1)\n",
            "Requirement already satisfied: tensorflow-io-gcs-filesystem>=0.23.1 in /usr/local/lib/python3.10/dist-packages (from tensorflow) (0.32.0)\n",
            "Requirement already satisfied: wheel<1.0,>=0.23.0 in /usr/local/lib/python3.10/dist-packages (from astunparse>=1.6.0->tensorflow) (0.40.0)\n",
            "Requirement already satisfied: ml-dtypes>=0.1.0 in /usr/local/lib/python3.10/dist-packages (from jax>=0.3.15->tensorflow) (0.2.0)\n",
            "Requirement already satisfied: scipy>=1.7 in /usr/local/lib/python3.10/dist-packages (from jax>=0.3.15->tensorflow) (1.10.1)\n",
            "Requirement already satisfied: google-auth<3,>=1.6.3 in /usr/local/lib/python3.10/dist-packages (from tensorboard<2.13,>=2.12->tensorflow) (2.17.3)\n",
            "Requirement already satisfied: google-auth-oauthlib<1.1,>=0.5 in /usr/local/lib/python3.10/dist-packages (from tensorboard<2.13,>=2.12->tensorflow) (1.0.0)\n",
            "Requirement already satisfied: markdown>=2.6.8 in /usr/local/lib/python3.10/dist-packages (from tensorboard<2.13,>=2.12->tensorflow) (3.4.3)\n",
            "Requirement already satisfied: requests<3,>=2.21.0 in /usr/local/lib/python3.10/dist-packages (from tensorboard<2.13,>=2.12->tensorflow) (2.27.1)\n",
            "Requirement already satisfied: tensorboard-data-server<0.8.0,>=0.7.0 in /usr/local/lib/python3.10/dist-packages (from tensorboard<2.13,>=2.12->tensorflow) (0.7.1)\n",
            "Requirement already satisfied: werkzeug>=1.0.1 in /usr/local/lib/python3.10/dist-packages (from tensorboard<2.13,>=2.12->tensorflow) (2.3.6)\n",
            "Requirement already satisfied: cachetools<6.0,>=2.0.0 in /usr/local/lib/python3.10/dist-packages (from google-auth<3,>=1.6.3->tensorboard<2.13,>=2.12->tensorflow) (5.3.1)\n",
            "Requirement already satisfied: pyasn1-modules>=0.2.1 in /usr/local/lib/python3.10/dist-packages (from google-auth<3,>=1.6.3->tensorboard<2.13,>=2.12->tensorflow) (0.3.0)\n",
            "Requirement already satisfied: rsa<5,>=3.1.4 in /usr/local/lib/python3.10/dist-packages (from google-auth<3,>=1.6.3->tensorboard<2.13,>=2.12->tensorflow) (4.9)\n",
            "Requirement already satisfied: requests-oauthlib>=0.7.0 in /usr/local/lib/python3.10/dist-packages (from google-auth-oauthlib<1.1,>=0.5->tensorboard<2.13,>=2.12->tensorflow) (1.3.1)\n",
            "Requirement already satisfied: urllib3<1.27,>=1.21.1 in /usr/local/lib/python3.10/dist-packages (from requests<3,>=2.21.0->tensorboard<2.13,>=2.12->tensorflow) (1.26.16)\n",
            "Requirement already satisfied: certifi>=2017.4.17 in /usr/local/lib/python3.10/dist-packages (from requests<3,>=2.21.0->tensorboard<2.13,>=2.12->tensorflow) (2023.5.7)\n",
            "Requirement already satisfied: charset-normalizer~=2.0.0 in /usr/local/lib/python3.10/dist-packages (from requests<3,>=2.21.0->tensorboard<2.13,>=2.12->tensorflow) (2.0.12)\n",
            "Requirement already satisfied: idna<4,>=2.5 in /usr/local/lib/python3.10/dist-packages (from requests<3,>=2.21.0->tensorboard<2.13,>=2.12->tensorflow) (3.4)\n",
            "Requirement already satisfied: MarkupSafe>=2.1.1 in /usr/local/lib/python3.10/dist-packages (from werkzeug>=1.0.1->tensorboard<2.13,>=2.12->tensorflow) (2.1.3)\n",
            "Requirement already satisfied: pyasn1<0.6.0,>=0.4.6 in /usr/local/lib/python3.10/dist-packages (from pyasn1-modules>=0.2.1->google-auth<3,>=1.6.3->tensorboard<2.13,>=2.12->tensorflow) (0.5.0)\n",
            "Requirement already satisfied: oauthlib>=3.0.0 in /usr/local/lib/python3.10/dist-packages (from requests-oauthlib>=0.7.0->google-auth-oauthlib<1.1,>=0.5->tensorboard<2.13,>=2.12->tensorflow) (3.2.2)\n",
            "Requirement already satisfied: matplotlib in /usr/local/lib/python3.10/dist-packages (3.7.1)\n",
            "Requirement already satisfied: contourpy>=1.0.1 in /usr/local/lib/python3.10/dist-packages (from matplotlib) (1.1.0)\n",
            "Requirement already satisfied: cycler>=0.10 in /usr/local/lib/python3.10/dist-packages (from matplotlib) (0.11.0)\n",
            "Requirement already satisfied: fonttools>=4.22.0 in /usr/local/lib/python3.10/dist-packages (from matplotlib) (4.40.0)\n",
            "Requirement already satisfied: kiwisolver>=1.0.1 in /usr/local/lib/python3.10/dist-packages (from matplotlib) (1.4.4)\n",
            "Requirement already satisfied: numpy>=1.20 in /usr/local/lib/python3.10/dist-packages (from matplotlib) (1.22.4)\n",
            "Requirement already satisfied: packaging>=20.0 in /usr/local/lib/python3.10/dist-packages (from matplotlib) (23.1)\n",
            "Requirement already satisfied: pillow>=6.2.0 in /usr/local/lib/python3.10/dist-packages (from matplotlib) (8.4.0)\n",
            "Requirement already satisfied: pyparsing>=2.3.1 in /usr/local/lib/python3.10/dist-packages (from matplotlib) (3.1.0)\n",
            "Requirement already satisfied: python-dateutil>=2.7 in /usr/local/lib/python3.10/dist-packages (from matplotlib) (2.8.2)\n",
            "Requirement already satisfied: six>=1.5 in /usr/local/lib/python3.10/dist-packages (from python-dateutil>=2.7->matplotlib) (1.16.0)\n"
          ]
        }
      ],
      "source": [
        "!virtualenv env\n",
        "!source env/bin/activate\n",
        "!pip install tensorflow_io\n",
        "!pip install tensorflow\n",
        "!pip install matplotlib\n",
        "\n"
      ]
    },
    {
      "cell_type": "code",
      "execution_count": 2,
      "metadata": {
        "id": "lD3V71wGNEGt"
      },
      "outputs": [],
      "source": [
        "import os\n",
        "import tensorflow as tf\n",
        "from matplotlib import pyplot as plt\n",
        "import tensorflow_io as tfio\n"
      ]
    },
    {
      "cell_type": "code",
      "execution_count": 3,
      "metadata": {
        "id": "ZGoarsVQNEGu"
      },
      "outputs": [],
      "source": [
        "def load_wav_16k_mono(file_name):\n",
        "    file_content=tf.io.read_file(file_name)\n",
        "    wav, samp_rate=tf.audio.decode_wav(file_content,desired_channels=1)\n",
        "    wav=tf.squeeze(wav,axis=-1)\n",
        "    samp_rate=tf.cast(samp_rate,tf.int64)\n",
        "\n",
        "    wav=tfio.audio.resample(wav,rate_in=samp_rate,rate_out=16000)\n",
        "                #    ^--resample it to 16k\n",
        "    return wav\n",
        "\n"
      ]
    },
    {
      "cell_type": "code",
      "source": [
        "from google.colab import drive\n",
        "drive.mount('/content/drive')"
      ],
      "metadata": {
        "colab": {
          "base_uri": "https://localhost:8080/"
        },
        "id": "pFN4uQhLTbzS",
        "outputId": "1dbc4d07-f5b6-4371-e1ab-f7ec7ded8cff"
      },
      "execution_count": 4,
      "outputs": [
        {
          "output_type": "stream",
          "name": "stdout",
          "text": [
            "Mounted at /content/drive\n"
          ]
        }
      ]
    },
    {
      "cell_type": "code",
      "execution_count": 5,
      "metadata": {
        "id": "UHC4rJJFNEGv"
      },
      "outputs": [],
      "source": [
        "# file_content=tf.io.read_file(capuchin_path)\n",
        "# # wav, samp_rate=tf.audio.decode_wav(file_content,desired_channels=1)\n",
        "# # wav=tf.squeeze(wav,axis=-1)\n",
        "# print(file_content)"
      ]
    },
    {
      "cell_type": "code",
      "execution_count": 6,
      "metadata": {
        "id": "tBzjqOEXNEGu"
      },
      "outputs": [],
      "source": [
        "capuchin_path = os.path.join('/content/drive/MyDrive/audioDATA/_data_/Parsed_Capuchinbird_Clips/XC114131-4.wav')\n",
        "non_capuchin_path = os.path.join('/content/drive/MyDrive/audioDATA/_data_/Parsed_Not_Capuchinbird_Clips/Crickets-chirping-10.wav')"
      ]
    },
    {
      "cell_type": "code",
      "execution_count": 7,
      "metadata": {
        "colab": {
          "base_uri": "https://localhost:8080/"
        },
        "id": "q-BTqMFYNEGv",
        "outputId": "52f51128-16e3-45c9-bf82-61c4c69143a3"
      },
      "outputs": [
        {
          "output_type": "stream",
          "name": "stdout",
          "text": [
            "tf.Tensor(\n",
            "[ 7.1431181e-08 -2.4679753e-07  5.5141629e-07 ...  2.8885824e-03\n",
            " -5.0002453e-04  1.3867170e-03], shape=(56000,), dtype=float32)\n",
            "tf.Tensor(\n",
            "[ 6.1404739e-07 -1.8170807e-06  4.0851000e-06 ...  0.0000000e+00\n",
            "  0.0000000e+00  0.0000000e+00], shape=(52064,), dtype=float32)\n"
          ]
        }
      ],
      "source": [
        "wav=load_wav_16k_mono(capuchin_path)\n",
        "print(wav)\n",
        "nwav=load_wav_16k_mono(non_capuchin_path)\n",
        "print(nwav)\n"
      ]
    },
    {
      "cell_type": "code",
      "source": [
        "plt.plot(wav)\n",
        "plt.plot(nwav)\n",
        "plt.show()"
      ],
      "metadata": {
        "colab": {
          "base_uri": "https://localhost:8080/",
          "height": 430
        },
        "id": "dpfM9IKFc6uL",
        "outputId": "8d9dd7da-0241-4271-ae1a-399c68d1332d"
      },
      "execution_count": 8,
      "outputs": [
        {
          "output_type": "display_data",
          "data": {
            "text/plain": [
              "<Figure size 640x480 with 1 Axes>"
            ],
            "image/png": "[encoded data removed]"
          },
          "metadata": {}
        }
      ]
    },
    {
      "cell_type": "code",
      "source": [
        "positive=os.path.join('/content/drive/MyDrive/audioDATA/_data_/Parsed_Capuchinbird_Clips')\n",
        "\n",
        "negative=os.path.join('/content/drive/MyDrive/audioDATA/_data_/Parsed_Not_Capuchinbird_Clips')"
      ],
      "metadata": {
        "id": "RoukCgsTem2s"
      },
      "execution_count": 9,
      "outputs": []
    },
    {
      "cell_type": "markdown",
      "source": [
        "## crate tensorflow dataset<br>\n",
        "create a list of the files of dataset, <br>\n",
        "from the path of the positive datasert"
      ],
      "metadata": {
        "id": "CYczaY9CqfHf"
      }
    },
    {
      "cell_type": "code",
      "source": [
        "positive=tf.data.Dataset.list_files(positive+'/*.wav')\n",
        "negative=tf.data.Dataset.list_files(negative+'/*.wav')"
      ],
      "metadata": {
        "id": "qgpUC-gdp1nH"
      },
      "execution_count": 10,
      "outputs": []
    },
    {
      "cell_type": "code",
      "source": [
        "positive=tf.data.Dataset.zip((positive,tf.data.Dataset.from_tensor_slices(tf.ones(len(positive)))))\n",
        "negative=tf.data.Dataset.zip((negative,tf.data.Dataset.from_tensor_slices(tf.zeros(len(negative)))))"
      ],
      "metadata": {
        "id": "K8GojYh1gS6H"
      },
      "execution_count": 11,
      "outputs": []
    },
    {
      "cell_type": "code",
      "source": [
        "# for _ in positive:\n",
        "#   print(_)"
      ],
      "metadata": {
        "id": "UnQzW4pGpsfr"
      },
      "execution_count": 12,
      "outputs": []
    },
    {
      "cell_type": "code",
      "source": [
        "data=positive.concatenate(negative)"
      ],
      "metadata": {
        "id": "m4Zt-Jh9r9ah"
      },
      "execution_count": 13,
      "outputs": []
    },
    {
      "cell_type": "code",
      "source": [
        "data.shuffle(1000).as_numpy_iterator().next()"
      ],
      "metadata": {
        "colab": {
          "base_uri": "https://localhost:8080/"
        },
        "id": "fRtnDqk7sbWD",
        "outputId": "94ac5f6b-c67a-48f4-eeba-9e5234d8fa1f"
      },
      "execution_count": 14,
      "outputs": [
        {
          "output_type": "execute_result",
          "data": {
            "text/plain": [
              "(b'/content/drive/MyDrive/audioDATA/_data_/Parsed_Not_Capuchinbird_Clips/dove-sound-effect-1.wav',\n",
              " 0.0)"
            ]
          },
          "metadata": {},
          "execution_count": 14
        }
      ]
    },
    {
      "cell_type": "markdown",
      "source": [
        "calculate wave cycle length"
      ],
      "metadata": {
        "id": "J2FAZ7gzSSay"
      }
    },
    {
      "cell_type": "code",
      "source": [
        "path_p='/content/drive/MyDrive/audioDATA/_data_/Parsed_Capuchinbird_Clips'"
      ],
      "metadata": {
        "id": "0kAML2WbXiYS"
      },
      "execution_count": 15,
      "outputs": []
    },
    {
      "cell_type": "code",
      "source": [
        "length=[]\n",
        "for file in os.listdir(path_p):\n",
        "  tensor_wave=load_wav_16k_mono(os.path.join(path_p,file))\n",
        "  length.append(len(tensor_wave))"
      ],
      "metadata": {
        "id": "U_fvjMyWDz3G",
        "colab": {
          "base_uri": "https://localhost:8080/"
        },
        "outputId": "9cc3ea6c-c122-4cc5-f5e4-ac43b5b59903"
      },
      "execution_count": 16,
      "outputs": [
        {
          "output_type": "stream",
          "name": "stderr",
          "text": [
            "WARNING:tensorflow:5 out of the last 5 calls to <function pfor.<locals>.f at 0x7f351d8e52d0> triggered tf.function retracing. Tracing is expensive and the excessive number of tracings could be due to (1) creating @tf.function repeatedly in a loop, (2) passing tensors with different shapes, (3) passing Python objects instead of tensors. For (1), please define your @tf.function outside of the loop. For (2), @tf.function has reduce_retracing=True option that can avoid unnecessary retracing. For (3), please refer to https://www.tensorflow.org/guide/function#controlling_retracing and https://www.tensorflow.org/api_docs/python/tf/function for  more details.\n",
            "WARNING:tensorflow:6 out of the last 6 calls to <function pfor.<locals>.f at 0x7f351d8e4ee0> triggered tf.function retracing. Tracing is expensive and the excessive number of tracings could be due to (1) creating @tf.function repeatedly in a loop, (2) passing tensors with different shapes, (3) passing Python objects instead of tensors. For (1), please define your @tf.function outside of the loop. For (2), @tf.function has reduce_retracing=True option that can avoid unnecessary retracing. For (3), please refer to https://www.tensorflow.org/guide/function#controlling_retracing and https://www.tensorflow.org/api_docs/python/tf/function for  more details.\n"
          ]
        }
      ]
    },
    {
      "cell_type": "code",
      "source": [
        "# print(*length)"
      ],
      "metadata": {
        "id": "dILxQankD7Ye"
      },
      "execution_count": 17,
      "outputs": []
    },
    {
      "cell_type": "code",
      "source": [
        "mean= tf.math.reduce_mean(length)#average length\n",
        "print(\"Average capuchin bird call length\\t:\",int(mean)/16000,\"s\")\n",
        "\n",
        "min=tf.math.reduce_min(length)\n",
        "print(\"Minimum capuchin bird call length\\t:\",int(min)/16000,\"s\")\n",
        "\n",
        "max=tf.math.reduce_max(length)\n",
        "print(\"maximum capuchin bird call length\\t:\",int(max)/16000,\"s\")"
      ],
      "metadata": {
        "colab": {
          "base_uri": "https://localhost:8080/"
        },
        "id": "vgyegfFxaH2w",
        "outputId": "c51c9813-608d-44fc-c801-29df1248302f"
      },
      "execution_count": 18,
      "outputs": [
        {
          "output_type": "stream",
          "name": "stdout",
          "text": [
            "Average capuchin bird call length\t: 3.38475 s\n",
            "Minimum capuchin bird call length\t: 2.0 s\n",
            "maximum capuchin bird call length\t: 5.0 s\n"
          ]
        }
      ]
    },
    {
      "cell_type": "code",
      "source": [
        "def preprocess(file_path,labl):\n",
        "  wav=load_wav_16k_mono(file_path)\n",
        "  wav=wav[:48000]\n",
        "  zero_padding=tf.zeros([48000]-tf.shape(wav),dtype=tf.float32)\n",
        "  wav=tf.concat([zero_padding,wav],0)\n",
        "  spectrogram=tf.signal.stft(wav,frame_length=320,frame_step=32)\n",
        "  spectrogram=tf.abs(spectrogram)\n",
        "  spectrogram=tf.expand_dims(spectrogram,axis=2)\n",
        "  return(spectrogram,labl)\n",
        "\n"
      ],
      "metadata": {
        "id": "TMo3PL6FfBjS"
      },
      "execution_count": 19,
      "outputs": []
    },
    {
      "cell_type": "code",
      "source": [
        "# wav=load_wav_16k_mono(capuchin_path)\n",
        "# print(wav)\n",
        "# len(wav)"
      ],
      "metadata": {
        "id": "5WzbC2vf1J7a"
      },
      "execution_count": 20,
      "outputs": []
    },
    {
      "cell_type": "code",
      "source": [
        "# wav=wav[:48000]\n",
        "# print(wav)\n",
        "# # len(wav)"
      ],
      "metadata": {
        "id": "KZIB16cd2dxk"
      },
      "execution_count": 21,
      "outputs": []
    },
    {
      "cell_type": "code",
      "source": [
        "# zero_padding=tf.zeros([48000]-tf.shape(wav),dtype=tf.float32)\n",
        "# print(zero_padding)\n",
        "# len(zero_padding)"
      ],
      "metadata": {
        "id": "WIaORn_5RJ7l"
      },
      "execution_count": 22,
      "outputs": []
    },
    {
      "cell_type": "code",
      "source": [
        "# tf.shape(wav)"
      ],
      "metadata": {
        "id": "nRgO8ecZRSDm"
      },
      "execution_count": 23,
      "outputs": []
    },
    {
      "cell_type": "code",
      "source": [
        "# wav=tf.concat([zero_padding,wav],0)\n",
        "# spectrogram=tf.signal.stft(wav,frame_length=320,frame_step=32)\n",
        "# spectrogram=tf.abs(spectrogram)\n",
        "# spectrogram=tf.expand_dims(spectrogram,axis=2) # add's the extra axis in the\n"
      ],
      "metadata": {
        "id": "jgIVCquCRoMs"
      },
      "execution_count": 24,
      "outputs": []
    },
    {
      "cell_type": "code",
      "source": [
        "# spectrogram"
      ],
      "metadata": {
        "id": "q9yOGBe6TgvI"
      },
      "execution_count": 25,
      "outputs": []
    },
    {
      "cell_type": "code",
      "source": [
        "# plt.figure(figsize=(30,20))\n",
        "# plt.imshow(tf.transpose(spectrogram)[0])\n",
        "# plt.show()"
      ],
      "metadata": {
        "id": "0pPAut7_Tmj_"
      },
      "execution_count": 26,
      "outputs": []
    },
    {
      "cell_type": "code",
      "source": [
        "for _ in range(len(length)-1):\n",
        "  data.as_numpy_iterator().next()\n",
        ""
      ],
      "metadata": {
        "id": "aAqkeJshUqLN"
      },
      "execution_count": 27,
      "outputs": []
    },
    {
      "cell_type": "code",
      "source": [
        "!git init\n",
        "\n",
        "\n"
      ],
      "metadata": {
        "colab": {
          "base_uri": "https://localhost:8080/"
        },
        "id": "szmnJ20jZ-Od",
        "outputId": "6d73e945-4c8c-44b2-84ec-3e214b4c4750"
      },
      "execution_count": 30,
      "outputs": [
        {
          "output_type": "stream",
          "name": "stdout",
          "text": [
            "Reinitialized existing Git repository in /content/.git/\n",
            "fatal: pathspec 'audio_classify.ipynb' did not match any files\n"
          ]
        }
      ]
    },
    {
      "cell_type": "code",
      "source": [
        "!git add \"/content/drive/MyDrive/Colab Notebooks/audio_classify.ipynb\""
      ],
      "metadata": {
        "id": "61io0X76b_B3"
      },
      "execution_count": 34,
      "outputs": []
    },
    {
      "cell_type": "code",
      "source": [
        "!git status"
      ],
      "metadata": {
        "id": "zn9NtXubcQtU"
      },
      "execution_count": null,
      "outputs": []
    },
    {
      "cell_type": "code",
      "source": [
        "!git config --global user.email \"prateekpatriotasme@gmail.com\"\n",
        "!git config --global user.name \"prateek271\"\n"
      ],
      "metadata": {
        "id": "OXtAi8xCcbGq"
      },
      "execution_count": 38,
      "outputs": []
    },
    {
      "cell_type": "code",
      "source": [
        "!git commit -m \"add files necessary\"\n"
      ],
      "metadata": {
        "colab": {
          "base_uri": "https://localhost:8080/"
        },
        "id": "iApAghWPa-AG",
        "outputId": "6e958867-14a9-40dd-d2b4-d6d70606f3b2"
      },
      "execution_count": 39,
      "outputs": [
        {
          "output_type": "stream",
          "name": "stdout",
          "text": [
            "[master (root-commit) 5afe909] add files necessary\n",
            " 1 file changed, 1 insertion(+)\n",
            " create mode 100644 drive/MyDrive/Colab Notebooks/audio_classify.ipynb\n"
          ]
        }
      ]
    },
    {
      "cell_type": "code",
      "source": [
        "!git push \"https://github.com/praTeek271/Audio_Classification.git\" \"main\""
      ],
      "metadata": {
        "colab": {
          "base_uri": "https://localhost:8080/"
        },
        "id": "_AnZWfzWcYLZ",
        "outputId": "8a40ada9-1d61-4998-ed68-c0cf585ffc02"
      },
      "execution_count": 42,
      "outputs": [
        {
          "output_type": "stream",
          "name": "stdout",
          "text": [
            "error: src refspec main does not match any\n",
            "\u001b[31merror: failed to push some refs to 'https://github.com/praTeek271/Audio_Classification.git'\n",
            "\u001b[m"
          ]
        }
      ]
    },
    {
      "cell_type": "code",
      "source": [],
      "metadata": {
        "id": "hpEKirXudbhR"
      },
      "execution_count": null,
      "outputs": []
    }
  ],
  "metadata": {
    "kernelspec": {
      "display_name": "Python 3",
      "language": "python",
      "name": "python3"
    },
    "language_info": {
      "codemirror_mode": {
        "name": "ipython",
        "version": 3
      },
      "file_extension": ".py",
      "mimetype": "text/x-python",
      "name": "python",
      "nbconvert_exporter": "python",
      "pygments_lexer": "ipython3",
      "version": "3.9.13"
    },
    "orig_nbformat": 4,
    "colab": {
      "provenance": []
    }
  },
  "nbformat": 4,
  "nbformat_minor": 0
}